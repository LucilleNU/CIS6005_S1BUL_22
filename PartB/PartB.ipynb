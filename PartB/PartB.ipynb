{
 "cells": [
  {
   "cell_type": "code",
   "execution_count": 162,
   "id": "d43dc96b",
   "metadata": {},
   "outputs": [],
   "source": [
    "from numpy.random import seed\n",
    "seed(888)\n",
    "\n",
    "#from tensorflow import set_random_seed\n",
    "#set_random_seed(4112)\n",
    "import tensorflow\n",
    "tensorflow.random.set_seed(112)"
   ]
  },
  {
   "cell_type": "code",
   "execution_count": 163,
   "id": "ee03cf11",
   "metadata": {},
   "outputs": [],
   "source": [
    "from keras.datasets import cifar10\n",
    "from sklearn.model_selection import train_test_split\n",
    "from keras.models import Sequential\n",
    "from keras.layers import Dense, Conv2D, MaxPooling2D, Flatten\n",
    "from keras.layers import Dense, Conv2D, MaxPool2D, Flatten   \n",
    "from keras.optimizers import Adam\n",
    "from keras.utils import to_categorical\n",
    "import pandas as pd\n",
    "import numpy as np\n",
    "import matplotlib.pyplot as plt"
   ]
  },
  {
   "cell_type": "code",
   "execution_count": 164,
   "id": "f10a5a1f",
   "metadata": {},
   "outputs": [],
   "source": [
    "# Getting the dataset as a Tuple\n",
    "# Load the CIFAR-10 dataset\n",
    "(X_train, y_train), (X_test, y_test) = cifar10.load_data()"
   ]
  },
  {
   "cell_type": "code",
   "execution_count": 165,
   "id": "ce4dd003",
   "metadata": {},
   "outputs": [],
   "source": [
    "# Split the data into a training set and a testing set\n",
    "X_train, X_test, y_train, y_test = train_test_split(X_train, y_train, test_size=0.3, random_state=0)"
   ]
  },
  {
   "cell_type": "code",
   "execution_count": 166,
   "id": "d44f835e",
   "metadata": {},
   "outputs": [],
   "source": [
    "# Split the training set into a new training set and a validation set\n",
    "X_train, X_val, y_train, y_val = train_test_split(X_train, y_train, test_size=0.2, random_state=0)"
   ]
  },
  {
   "cell_type": "code",
   "execution_count": 167,
   "id": "187f4f5d",
   "metadata": {},
   "outputs": [],
   "source": [
    "# One-hot encode the labels\n",
    "y_train = to_categorical(y_train)\n",
    "y_val = to_categorical(y_val)\n",
    "y_test = to_categorical(y_test)"
   ]
  },
  {
   "cell_type": "markdown",
   "id": "70d1414d",
   "metadata": {},
   "source": [
    "# BUILDING THE FIRST MODEL"
   ]
  },
  {
   "cell_type": "code",
   "execution_count": 168,
   "id": "ca9dc2da",
   "metadata": {},
   "outputs": [],
   "source": [
    "# Build the first neural network (CNN)\n",
    "model1 = Sequential()\n",
    "model1.add(Conv2D(32, kernel_size=(3, 3), activation='relu', input_shape=(32, 32, 3)))\n",
    "model1.add(MaxPooling2D(pool_size=(2, 2)))\n",
    "model1.add(Conv2D(64, kernel_size=(3, 3), activation='relu'))\n",
    "model1.add(MaxPooling2D(pool_size=(2, 2)))\n",
    "model1.add(Flatten())\n",
    "model1.add(Dense(10, activation='softmax'))\n",
    "model1.compile(optimizer=Adam(), loss='categorical_crossentropy', metrics=['accuracy'])"
   ]
  },
  {
   "cell_type": "code",
   "execution_count": 169,
   "id": "b1ffac82",
   "metadata": {},
   "outputs": [
    {
     "name": "stdout",
     "output_type": "stream",
     "text": [
      "Model: \"sequential_18\"\n",
      "_________________________________________________________________\n",
      " Layer (type)                Output Shape              Param #   \n",
      "=================================================================\n",
      " conv2d_38 (Conv2D)          (None, 30, 30, 32)        896       \n",
      "                                                                 \n",
      " max_pooling2d_37 (MaxPoolin  (None, 15, 15, 32)       0         \n",
      " g2D)                                                            \n",
      "                                                                 \n",
      " conv2d_39 (Conv2D)          (None, 13, 13, 64)        18496     \n",
      "                                                                 \n",
      " max_pooling2d_38 (MaxPoolin  (None, 6, 6, 64)         0         \n",
      " g2D)                                                            \n",
      "                                                                 \n",
      " flatten_14 (Flatten)        (None, 2304)              0         \n",
      "                                                                 \n",
      " dense_23 (Dense)            (None, 10)                23050     \n",
      "                                                                 \n",
      "=================================================================\n",
      "Total params: 42,442\n",
      "Trainable params: 42,442\n",
      "Non-trainable params: 0\n",
      "_________________________________________________________________\n"
     ]
    }
   ],
   "source": [
    "model1.summary()"
   ]
  },
  {
   "cell_type": "code",
   "execution_count": 170,
   "id": "0dc7eac9",
   "metadata": {},
   "outputs": [
    {
     "name": "stdout",
     "output_type": "stream",
     "text": [
      "Epoch 1/15\n",
      "875/875 [==============================] - 17s 19ms/step - loss: 2.5654 - accuracy: 0.2781 - val_loss: 1.7825 - val_accuracy: 0.3499\n",
      "Epoch 2/15\n",
      "875/875 [==============================] - 17s 20ms/step - loss: 1.6345 - accuracy: 0.4111 - val_loss: 1.4906 - val_accuracy: 0.4706\n",
      "Epoch 3/15\n",
      "875/875 [==============================] - 17s 19ms/step - loss: 1.4436 - accuracy: 0.4874 - val_loss: 1.5028 - val_accuracy: 0.4724\n",
      "Epoch 4/15\n",
      "875/875 [==============================] - 16s 19ms/step - loss: 1.3484 - accuracy: 0.5260 - val_loss: 1.3936 - val_accuracy: 0.5076\n",
      "Epoch 5/15\n",
      "875/875 [==============================] - 16s 19ms/step - loss: 1.2772 - accuracy: 0.5548 - val_loss: 1.3749 - val_accuracy: 0.5234\n",
      "Epoch 6/15\n",
      "875/875 [==============================] - 17s 20ms/step - loss: 1.2084 - accuracy: 0.5790 - val_loss: 1.3977 - val_accuracy: 0.5294\n",
      "Epoch 7/15\n",
      "875/875 [==============================] - 18s 21ms/step - loss: 1.1524 - accuracy: 0.6026 - val_loss: 1.2764 - val_accuracy: 0.5607\n",
      "Epoch 8/15\n",
      "875/875 [==============================] - 15s 17ms/step - loss: 1.1034 - accuracy: 0.6185 - val_loss: 1.3052 - val_accuracy: 0.5624\n",
      "Epoch 9/15\n",
      "875/875 [==============================] - 19s 21ms/step - loss: 1.0506 - accuracy: 0.6376 - val_loss: 1.4470 - val_accuracy: 0.5330\n",
      "Epoch 10/15\n",
      "875/875 [==============================] - 21s 24ms/step - loss: 1.0212 - accuracy: 0.6480 - val_loss: 1.3387 - val_accuracy: 0.5637\n",
      "Epoch 11/15\n",
      "875/875 [==============================] - 17s 20ms/step - loss: 0.9789 - accuracy: 0.6610 - val_loss: 1.3239 - val_accuracy: 0.5584\n",
      "Epoch 12/15\n",
      "875/875 [==============================] - 16s 18ms/step - loss: 0.9508 - accuracy: 0.6733 - val_loss: 1.4153 - val_accuracy: 0.5671\n",
      "Epoch 13/15\n",
      "875/875 [==============================] - 15s 18ms/step - loss: 0.9218 - accuracy: 0.6811 - val_loss: 1.4860 - val_accuracy: 0.5537\n",
      "Epoch 14/15\n",
      "875/875 [==============================] - 18s 20ms/step - loss: 0.9016 - accuracy: 0.6890 - val_loss: 1.4361 - val_accuracy: 0.5709\n",
      "Epoch 15/15\n",
      "875/875 [==============================] - 16s 19ms/step - loss: 0.8720 - accuracy: 0.6990 - val_loss: 1.5102 - val_accuracy: 0.5493\n"
     ]
    }
   ],
   "source": [
    "# Train the first model on the training set and evaluate on the validation set\n",
    "history = model1.fit(X_train, y_train, epochs=15, batch_size=32, validation_data=(X_val, y_val))"
   ]
  },
  {
   "cell_type": "code",
   "execution_count": 171,
   "id": "84259b9b",
   "metadata": {},
   "outputs": [
    {
     "data": {
      "text/plain": [
       "dict_keys(['loss', 'accuracy', 'val_loss', 'val_accuracy'])"
      ]
     },
     "execution_count": 171,
     "metadata": {},
     "output_type": "execute_result"
    }
   ],
   "source": [
    "model1.history.history.keys()"
   ]
  },
  {
   "cell_type": "code",
   "execution_count": 172,
   "id": "25c5adbc",
   "metadata": {},
   "outputs": [
    {
     "data": {
      "text/html": [
       "<div>\n",
       "<style scoped>\n",
       "    .dataframe tbody tr th:only-of-type {\n",
       "        vertical-align: middle;\n",
       "    }\n",
       "\n",
       "    .dataframe tbody tr th {\n",
       "        vertical-align: top;\n",
       "    }\n",
       "\n",
       "    .dataframe thead th {\n",
       "        text-align: right;\n",
       "    }\n",
       "</style>\n",
       "<table border=\"1\" class=\"dataframe\">\n",
       "  <thead>\n",
       "    <tr style=\"text-align: right;\">\n",
       "      <th></th>\n",
       "      <th>loss</th>\n",
       "      <th>accuracy</th>\n",
       "      <th>val_loss</th>\n",
       "      <th>val_accuracy</th>\n",
       "    </tr>\n",
       "  </thead>\n",
       "  <tbody>\n",
       "    <tr>\n",
       "      <th>0</th>\n",
       "      <td>2.565359</td>\n",
       "      <td>0.278107</td>\n",
       "      <td>1.782479</td>\n",
       "      <td>0.349857</td>\n",
       "    </tr>\n",
       "    <tr>\n",
       "      <th>1</th>\n",
       "      <td>1.634534</td>\n",
       "      <td>0.411143</td>\n",
       "      <td>1.490646</td>\n",
       "      <td>0.470571</td>\n",
       "    </tr>\n",
       "    <tr>\n",
       "      <th>2</th>\n",
       "      <td>1.443573</td>\n",
       "      <td>0.487357</td>\n",
       "      <td>1.502835</td>\n",
       "      <td>0.472429</td>\n",
       "    </tr>\n",
       "    <tr>\n",
       "      <th>3</th>\n",
       "      <td>1.348395</td>\n",
       "      <td>0.526036</td>\n",
       "      <td>1.393576</td>\n",
       "      <td>0.507571</td>\n",
       "    </tr>\n",
       "    <tr>\n",
       "      <th>4</th>\n",
       "      <td>1.277175</td>\n",
       "      <td>0.554821</td>\n",
       "      <td>1.374942</td>\n",
       "      <td>0.523429</td>\n",
       "    </tr>\n",
       "    <tr>\n",
       "      <th>5</th>\n",
       "      <td>1.208384</td>\n",
       "      <td>0.579036</td>\n",
       "      <td>1.397706</td>\n",
       "      <td>0.529429</td>\n",
       "    </tr>\n",
       "    <tr>\n",
       "      <th>6</th>\n",
       "      <td>1.152403</td>\n",
       "      <td>0.602643</td>\n",
       "      <td>1.276410</td>\n",
       "      <td>0.560714</td>\n",
       "    </tr>\n",
       "    <tr>\n",
       "      <th>7</th>\n",
       "      <td>1.103430</td>\n",
       "      <td>0.618536</td>\n",
       "      <td>1.305155</td>\n",
       "      <td>0.562429</td>\n",
       "    </tr>\n",
       "    <tr>\n",
       "      <th>8</th>\n",
       "      <td>1.050607</td>\n",
       "      <td>0.637571</td>\n",
       "      <td>1.447024</td>\n",
       "      <td>0.533000</td>\n",
       "    </tr>\n",
       "    <tr>\n",
       "      <th>9</th>\n",
       "      <td>1.021166</td>\n",
       "      <td>0.648000</td>\n",
       "      <td>1.338695</td>\n",
       "      <td>0.563714</td>\n",
       "    </tr>\n",
       "    <tr>\n",
       "      <th>10</th>\n",
       "      <td>0.978927</td>\n",
       "      <td>0.660964</td>\n",
       "      <td>1.323896</td>\n",
       "      <td>0.558429</td>\n",
       "    </tr>\n",
       "    <tr>\n",
       "      <th>11</th>\n",
       "      <td>0.950767</td>\n",
       "      <td>0.673286</td>\n",
       "      <td>1.415269</td>\n",
       "      <td>0.567143</td>\n",
       "    </tr>\n",
       "    <tr>\n",
       "      <th>12</th>\n",
       "      <td>0.921770</td>\n",
       "      <td>0.681071</td>\n",
       "      <td>1.485963</td>\n",
       "      <td>0.553714</td>\n",
       "    </tr>\n",
       "    <tr>\n",
       "      <th>13</th>\n",
       "      <td>0.901631</td>\n",
       "      <td>0.689036</td>\n",
       "      <td>1.436107</td>\n",
       "      <td>0.570857</td>\n",
       "    </tr>\n",
       "    <tr>\n",
       "      <th>14</th>\n",
       "      <td>0.871970</td>\n",
       "      <td>0.699000</td>\n",
       "      <td>1.510239</td>\n",
       "      <td>0.549286</td>\n",
       "    </tr>\n",
       "  </tbody>\n",
       "</table>\n",
       "</div>"
      ],
      "text/plain": [
       "        loss  accuracy  val_loss  val_accuracy\n",
       "0   2.565359  0.278107  1.782479      0.349857\n",
       "1   1.634534  0.411143  1.490646      0.470571\n",
       "2   1.443573  0.487357  1.502835      0.472429\n",
       "3   1.348395  0.526036  1.393576      0.507571\n",
       "4   1.277175  0.554821  1.374942      0.523429\n",
       "5   1.208384  0.579036  1.397706      0.529429\n",
       "6   1.152403  0.602643  1.276410      0.560714\n",
       "7   1.103430  0.618536  1.305155      0.562429\n",
       "8   1.050607  0.637571  1.447024      0.533000\n",
       "9   1.021166  0.648000  1.338695      0.563714\n",
       "10  0.978927  0.660964  1.323896      0.558429\n",
       "11  0.950767  0.673286  1.415269      0.567143\n",
       "12  0.921770  0.681071  1.485963      0.553714\n",
       "13  0.901631  0.689036  1.436107      0.570857\n",
       "14  0.871970  0.699000  1.510239      0.549286"
      ]
     },
     "execution_count": 172,
     "metadata": {},
     "output_type": "execute_result"
    }
   ],
   "source": [
    "metrics1 = pd.DataFrame(model1.history.history)\n",
    "metrics1"
   ]
  },
  {
   "cell_type": "code",
   "execution_count": 173,
   "id": "78ca7192",
   "metadata": {},
   "outputs": [
    {
     "data": {
      "image/png": "[encoded data removed]",
      "text/plain": [
       "<Figure size 432x288 with 1 Axes>"
      ]
     },
     "metadata": {
      "needs_background": "light"
     },
     "output_type": "display_data"
    }
   ],
   "source": [
    "metrics1[['loss', 'val_loss']].plot()\n",
    "plt.title('Training Loss Vs Validation Loss Model1', fontsize=16)\n",
    "plt.show()"
   ]
  },
  {
   "cell_type": "code",
   "execution_count": 174,
   "id": "86d9a0ff",
   "metadata": {},
   "outputs": [
    {
     "data": {
      "image/png": "[encoded data removed]",
      "text/plain": [
       "<Figure size 432x288 with 1 Axes>"
      ]
     },
     "metadata": {
      "needs_background": "light"
     },
     "output_type": "display_data"
    }
   ],
   "source": [
    "metrics1[['accuracy', 'val_accuracy']].plot()\n",
    "plt.title('Training Accuracy Vs Validation Accuracy Model1', fontsize=16)\n",
    "plt.show()"
   ]
  },
  {
   "cell_type": "markdown",
   "id": "9d5eda8f",
   "metadata": {},
   "source": [
    "# BUILDING THE SECOND MODEL"
   ]
  },
  {
   "cell_type": "code",
   "execution_count": 175,
   "id": "c0338cb7",
   "metadata": {},
   "outputs": [],
   "source": [
    "# Build the second neural network (CNN)\n",
    "model2 = Sequential()\n",
    "\n",
    "model2.add(Conv2D(filters=32, kernel_size=(3,3),input_shape=(32, 32, 3), activation='relu',))\n",
    "model2.add(MaxPooling2D(pool_size=(2, 2)))\n",
    "\n",
    "model2.add(Conv2D(filters=64, kernel_size=(3,3), activation='relu'))\n",
    "model2.add(MaxPooling2D(pool_size=(2, 2)))\n",
    "\n",
    "model2.add(Conv2D(filters=64, kernel_size=(3,3),input_shape=(32, 32, 3), activation='relu',)) \n",
    "model2.add(MaxPooling2D(pool_size=(2, 2)))\n",
    "\n",
    "model2.add(Flatten())\n",
    "\n",
    "model2.add(Dense(64, activation='relu'))\n",
    "\n",
    "model2.add(Dense(10, activation='softmax'))\n",
    "\n",
    "model2.compile(loss='categorical_crossentropy',\n",
    "              optimizer='adam',\n",
    "              metrics=['accuracy'])\n",
    "\n",
    "\n"
   ]
  },
  {
   "cell_type": "code",
   "execution_count": 176,
   "id": "f2ff3190",
   "metadata": {},
   "outputs": [
    {
     "name": "stdout",
     "output_type": "stream",
     "text": [
      "Model: \"sequential_19\"\n",
      "_________________________________________________________________\n",
      " Layer (type)                Output Shape              Param #   \n",
      "=================================================================\n",
      " conv2d_40 (Conv2D)          (None, 30, 30, 32)        896       \n",
      "                                                                 \n",
      " max_pooling2d_39 (MaxPoolin  (None, 15, 15, 32)       0         \n",
      " g2D)                                                            \n",
      "                                                                 \n",
      " conv2d_41 (Conv2D)          (None, 13, 13, 64)        18496     \n",
      "                                                                 \n",
      " max_pooling2d_40 (MaxPoolin  (None, 6, 6, 64)         0         \n",
      " g2D)                                                            \n",
      "                                                                 \n",
      " conv2d_42 (Conv2D)          (None, 4, 4, 64)          36928     \n",
      "                                                                 \n",
      " max_pooling2d_41 (MaxPoolin  (None, 2, 2, 64)         0         \n",
      " g2D)                                                            \n",
      "                                                                 \n",
      " flatten_15 (Flatten)        (None, 256)               0         \n",
      "                                                                 \n",
      " dense_24 (Dense)            (None, 64)                16448     \n",
      "                                                                 \n",
      " dense_25 (Dense)            (None, 10)                650       \n",
      "                                                                 \n",
      "=================================================================\n",
      "Total params: 73,418\n",
      "Trainable params: 73,418\n",
      "Non-trainable params: 0\n",
      "_________________________________________________________________\n"
     ]
    }
   ],
   "source": [
    "model2.summary()"
   ]
  },
  {
   "cell_type": "code",
   "execution_count": 177,
   "id": "44b35c4c",
   "metadata": {},
   "outputs": [
    {
     "name": "stdout",
     "output_type": "stream",
     "text": [
      "Epoch 1/15\n",
      "875/875 [==============================] - 21s 23ms/step - loss: 1.9359 - accuracy: 0.3359 - val_loss: 1.5626 - val_accuracy: 0.4249\n",
      "Epoch 2/15\n",
      "875/875 [==============================] - 19s 21ms/step - loss: 1.5025 - accuracy: 0.4584 - val_loss: 1.4825 - val_accuracy: 0.4611\n",
      "Epoch 3/15\n",
      "875/875 [==============================] - 20s 23ms/step - loss: 1.3543 - accuracy: 0.5167 - val_loss: 1.3586 - val_accuracy: 0.5127\n",
      "Epoch 4/15\n",
      "875/875 [==============================] - 21s 24ms/step - loss: 1.2495 - accuracy: 0.5556 - val_loss: 1.3820 - val_accuracy: 0.5077\n",
      "Epoch 5/15\n",
      "875/875 [==============================] - 20s 23ms/step - loss: 1.1632 - accuracy: 0.5913 - val_loss: 1.2524 - val_accuracy: 0.5561\n",
      "Epoch 6/15\n",
      "875/875 [==============================] - 21s 24ms/step - loss: 1.0930 - accuracy: 0.6178 - val_loss: 1.2461 - val_accuracy: 0.5600\n",
      "Epoch 7/15\n",
      "875/875 [==============================] - 22s 25ms/step - loss: 1.0353 - accuracy: 0.6379 - val_loss: 1.2264 - val_accuracy: 0.5711\n",
      "Epoch 8/15\n",
      "875/875 [==============================] - 22s 25ms/step - loss: 0.9696 - accuracy: 0.6595 - val_loss: 1.2320 - val_accuracy: 0.5764\n",
      "Epoch 9/15\n",
      "875/875 [==============================] - 20s 23ms/step - loss: 0.9087 - accuracy: 0.6805 - val_loss: 1.2382 - val_accuracy: 0.5901\n",
      "Epoch 10/15\n",
      "875/875 [==============================] - 21s 24ms/step - loss: 0.8739 - accuracy: 0.6938 - val_loss: 1.2654 - val_accuracy: 0.5866\n",
      "Epoch 11/15\n",
      "875/875 [==============================] - 21s 24ms/step - loss: 0.8261 - accuracy: 0.7121 - val_loss: 1.2658 - val_accuracy: 0.5920\n",
      "Epoch 12/15\n",
      "875/875 [==============================] - 19s 22ms/step - loss: 0.7765 - accuracy: 0.7256 - val_loss: 1.2527 - val_accuracy: 0.6086\n",
      "Epoch 13/15\n",
      "875/875 [==============================] - 20s 23ms/step - loss: 0.7414 - accuracy: 0.7406 - val_loss: 1.2481 - val_accuracy: 0.6014\n",
      "Epoch 14/15\n",
      "875/875 [==============================] - 21s 24ms/step - loss: 0.7052 - accuracy: 0.7547 - val_loss: 1.2956 - val_accuracy: 0.6044\n",
      "Epoch 15/15\n",
      "875/875 [==============================] - 22s 25ms/step - loss: 0.6744 - accuracy: 0.7648 - val_loss: 1.3861 - val_accuracy: 0.5904\n"
     ]
    }
   ],
   "source": [
    "# Train the second model on the training set and evaluate on the validation set\n",
    "history = model2.fit(X_train, y_train, epochs=15, batch_size=32, validation_data=(X_val, y_val))"
   ]
  },
  {
   "cell_type": "code",
   "execution_count": 178,
   "id": "212bdef0",
   "metadata": {},
   "outputs": [
    {
     "data": {
      "text/plain": [
       "dict_keys(['loss', 'accuracy', 'val_loss', 'val_accuracy'])"
      ]
     },
     "execution_count": 178,
     "metadata": {},
     "output_type": "execute_result"
    }
   ],
   "source": [
    "model2.history.history.keys()"
   ]
  },
  {
   "cell_type": "code",
   "execution_count": 179,
   "id": "30ad2add",
   "metadata": {},
   "outputs": [
    {
     "data": {
      "text/html": [
       "<div>\n",
       "<style scoped>\n",
       "    .dataframe tbody tr th:only-of-type {\n",
       "        vertical-align: middle;\n",
       "    }\n",
       "\n",
       "    .dataframe tbody tr th {\n",
       "        vertical-align: top;\n",
       "    }\n",
       "\n",
       "    .dataframe thead th {\n",
       "        text-align: right;\n",
       "    }\n",
       "</style>\n",
       "<table border=\"1\" class=\"dataframe\">\n",
       "  <thead>\n",
       "    <tr style=\"text-align: right;\">\n",
       "      <th></th>\n",
       "      <th>loss</th>\n",
       "      <th>accuracy</th>\n",
       "      <th>val_loss</th>\n",
       "      <th>val_accuracy</th>\n",
       "    </tr>\n",
       "  </thead>\n",
       "  <tbody>\n",
       "    <tr>\n",
       "      <th>0</th>\n",
       "      <td>1.935875</td>\n",
       "      <td>0.335857</td>\n",
       "      <td>1.562650</td>\n",
       "      <td>0.424857</td>\n",
       "    </tr>\n",
       "    <tr>\n",
       "      <th>1</th>\n",
       "      <td>1.502547</td>\n",
       "      <td>0.458357</td>\n",
       "      <td>1.482454</td>\n",
       "      <td>0.461143</td>\n",
       "    </tr>\n",
       "    <tr>\n",
       "      <th>2</th>\n",
       "      <td>1.354303</td>\n",
       "      <td>0.516750</td>\n",
       "      <td>1.358642</td>\n",
       "      <td>0.512714</td>\n",
       "    </tr>\n",
       "    <tr>\n",
       "      <th>3</th>\n",
       "      <td>1.249531</td>\n",
       "      <td>0.555607</td>\n",
       "      <td>1.382011</td>\n",
       "      <td>0.507714</td>\n",
       "    </tr>\n",
       "    <tr>\n",
       "      <th>4</th>\n",
       "      <td>1.163176</td>\n",
       "      <td>0.591286</td>\n",
       "      <td>1.252409</td>\n",
       "      <td>0.556143</td>\n",
       "    </tr>\n",
       "    <tr>\n",
       "      <th>5</th>\n",
       "      <td>1.093005</td>\n",
       "      <td>0.617821</td>\n",
       "      <td>1.246141</td>\n",
       "      <td>0.560000</td>\n",
       "    </tr>\n",
       "    <tr>\n",
       "      <th>6</th>\n",
       "      <td>1.035281</td>\n",
       "      <td>0.637893</td>\n",
       "      <td>1.226363</td>\n",
       "      <td>0.571143</td>\n",
       "    </tr>\n",
       "    <tr>\n",
       "      <th>7</th>\n",
       "      <td>0.969605</td>\n",
       "      <td>0.659464</td>\n",
       "      <td>1.232043</td>\n",
       "      <td>0.576429</td>\n",
       "    </tr>\n",
       "    <tr>\n",
       "      <th>8</th>\n",
       "      <td>0.908705</td>\n",
       "      <td>0.680464</td>\n",
       "      <td>1.238161</td>\n",
       "      <td>0.590143</td>\n",
       "    </tr>\n",
       "    <tr>\n",
       "      <th>9</th>\n",
       "      <td>0.873911</td>\n",
       "      <td>0.693821</td>\n",
       "      <td>1.265396</td>\n",
       "      <td>0.586571</td>\n",
       "    </tr>\n",
       "    <tr>\n",
       "      <th>10</th>\n",
       "      <td>0.826102</td>\n",
       "      <td>0.712143</td>\n",
       "      <td>1.265761</td>\n",
       "      <td>0.592000</td>\n",
       "    </tr>\n",
       "    <tr>\n",
       "      <th>11</th>\n",
       "      <td>0.776528</td>\n",
       "      <td>0.725643</td>\n",
       "      <td>1.252734</td>\n",
       "      <td>0.608571</td>\n",
       "    </tr>\n",
       "    <tr>\n",
       "      <th>12</th>\n",
       "      <td>0.741405</td>\n",
       "      <td>0.740643</td>\n",
       "      <td>1.248092</td>\n",
       "      <td>0.601429</td>\n",
       "    </tr>\n",
       "    <tr>\n",
       "      <th>13</th>\n",
       "      <td>0.705203</td>\n",
       "      <td>0.754679</td>\n",
       "      <td>1.295572</td>\n",
       "      <td>0.604429</td>\n",
       "    </tr>\n",
       "    <tr>\n",
       "      <th>14</th>\n",
       "      <td>0.674387</td>\n",
       "      <td>0.764786</td>\n",
       "      <td>1.386128</td>\n",
       "      <td>0.590429</td>\n",
       "    </tr>\n",
       "  </tbody>\n",
       "</table>\n",
       "</div>"
      ],
      "text/plain": [
       "        loss  accuracy  val_loss  val_accuracy\n",
       "0   1.935875  0.335857  1.562650      0.424857\n",
       "1   1.502547  0.458357  1.482454      0.461143\n",
       "2   1.354303  0.516750  1.358642      0.512714\n",
       "3   1.249531  0.555607  1.382011      0.507714\n",
       "4   1.163176  0.591286  1.252409      0.556143\n",
       "5   1.093005  0.617821  1.246141      0.560000\n",
       "6   1.035281  0.637893  1.226363      0.571143\n",
       "7   0.969605  0.659464  1.232043      0.576429\n",
       "8   0.908705  0.680464  1.238161      0.590143\n",
       "9   0.873911  0.693821  1.265396      0.586571\n",
       "10  0.826102  0.712143  1.265761      0.592000\n",
       "11  0.776528  0.725643  1.252734      0.608571\n",
       "12  0.741405  0.740643  1.248092      0.601429\n",
       "13  0.705203  0.754679  1.295572      0.604429\n",
       "14  0.674387  0.764786  1.386128      0.590429"
      ]
     },
     "execution_count": 179,
     "metadata": {},
     "output_type": "execute_result"
    }
   ],
   "source": [
    "metrics2 = pd.DataFrame(model2.history.history)\n",
    "metrics2"
   ]
  },
  {
   "cell_type": "code",
   "execution_count": 180,
   "id": "dd0226dd",
   "metadata": {},
   "outputs": [
    {
     "data": {
      "image/png": "[encoded data removed]",
      "text/plain": [
       "<Figure size 432x288 with 1 Axes>"
      ]
     },
     "metadata": {
      "needs_background": "light"
     },
     "output_type": "display_data"
    }
   ],
   "source": [
    "metrics2[['loss', 'val_loss']].plot()\n",
    "plt.title('Training Loss Vs Validation Loss Model2', fontsize=16)\n",
    "plt.show()"
   ]
  },
  {
   "cell_type": "code",
   "execution_count": 181,
   "id": "b93a3e46",
   "metadata": {},
   "outputs": [
    {
     "data": {
      "image/png": "[encoded data removed]",
      "text/plain": [
       "<Figure size 432x288 with 1 Axes>"
      ]
     },
     "metadata": {
      "needs_background": "light"
     },
     "output_type": "display_data"
    }
   ],
   "source": [
    "metrics2[['accuracy', 'val_accuracy']].plot()\n",
    "plt.title('Training Accuracy Vs Validation Accuracy Model2', fontsize=16)\n",
    "plt.show()"
   ]
  },
  {
   "cell_type": "code",
   "execution_count": 182,
   "id": "da0556ec",
   "metadata": {},
   "outputs": [
    {
     "name": "stdout",
     "output_type": "stream",
     "text": [
      "219/219 [==============================] - 1s 7ms/step - loss: 1.5102 - accuracy: 0.5493\n",
      "219/219 [==============================] - 2s 7ms/step - loss: 1.3861 - accuracy: 0.5904\n"
     ]
    }
   ],
   "source": [
    "# Compare the performance of the two models on the validation set\n",
    "val_loss1, val_acc1 = model1.evaluate(X_val, y_val)\n",
    "val_loss2, val_acc2 = model2.evaluate(X_val, y_val)"
   ]
  },
  {
   "cell_type": "code",
   "execution_count": 140,
   "id": "815c1036",
   "metadata": {},
   "outputs": [
    {
     "name": "stdout",
     "output_type": "stream",
     "text": [
      "469/469 [==============================] - 3s 6ms/step - loss: 1.5097 - accuracy: 0.5612\n",
      "469/469 [==============================] - 3s 6ms/step - loss: 1.2536 - accuracy: 0.6291\n"
     ]
    }
   ],
   "source": [
    "# Compare the performance of the two models on the test set\n",
    "test_loss1, test_acc1 = model1.evaluate(X_test, y_test)\n",
    "test_loss2, test_acc2 = model2.evaluate(X_test, y_test)\n"
   ]
  },
  {
   "cell_type": "markdown",
   "id": "bfc64463",
   "metadata": {},
   "source": [
    "# Classification Report and Confusion Matrix  "
   ]
  },
  {
   "cell_type": "code",
   "execution_count": 141,
   "id": "d5731962",
   "metadata": {},
   "outputs": [
    {
     "name": "stdout",
     "output_type": "stream",
     "text": [
      "219/219 [==============================] - 2s 8ms/step\n"
     ]
    }
   ],
   "source": [
    "from sklearn.metrics import classification_report, confusion_matrix\n",
    "\n",
    "# Make predictions on the validation set\n",
    "#y_pred = model1.predict(X_val)\n",
    "y_pred = model2.predict(X_val)\n",
    "\n",
    "# Convert the predicted probabilities to class labels\n",
    "y_pred = np.argmax(y_pred, axis=1)\n",
    "y_val = np.argmax(y_val, axis=1)"
   ]
  },
  {
   "cell_type": "code",
   "execution_count": 142,
   "id": "a283610a",
   "metadata": {},
   "outputs": [
    {
     "name": "stdout",
     "output_type": "stream",
     "text": [
      "              precision    recall  f1-score   support\n",
      "\n",
      "           0       0.67      0.63      0.65       714\n",
      "           1       0.84      0.66      0.74       733\n",
      "           2       0.55      0.53      0.54       705\n",
      "           3       0.48      0.42      0.45       700\n",
      "           4       0.57      0.54      0.55       727\n",
      "           5       0.43      0.65      0.52       650\n",
      "           6       0.74      0.64      0.68       691\n",
      "           7       0.62      0.74      0.67       719\n",
      "           8       0.73      0.75      0.74       686\n",
      "           9       0.73      0.69      0.71       675\n",
      "\n",
      "    accuracy                           0.62      7000\n",
      "   macro avg       0.64      0.62      0.63      7000\n",
      "weighted avg       0.64      0.62      0.63      7000\n",
      "\n"
     ]
    }
   ],
   "source": [
    "# Print the classification report\n",
    "print(classification_report(y_val, y_pred))"
   ]
  },
  {
   "cell_type": "code",
   "execution_count": 143,
   "id": "cd2e0f44",
   "metadata": {},
   "outputs": [
    {
     "name": "stdout",
     "output_type": "stream",
     "text": [
      "[[449  16  61  19  24  22   8  29  64  22]\n",
      " [ 34 485  15  11   4  17  17  10  45  95]\n",
      " [ 44   1 372  41  72  88  19  49  11   8]\n",
      " [ 11   0  29 292  47 212  45  45  11   8]\n",
      " [ 26   3  61  41 394  71  29  87   8   7]\n",
      " [  4   3  29  73  38 420  16  58   1   8]\n",
      " [  3   2  53  73  52  47 439  10   9   3]\n",
      " [  7   0  30  24  44  63   6 533   6   6]\n",
      " [ 64  17  18  20  14  13   5   7 512  16]\n",
      " [ 31  52   9  15   6  17   8  36  34 467]]\n"
     ]
    }
   ],
   "source": [
    "# Print the confusion matrix\n",
    "print(confusion_matrix(y_val, y_pred))"
   ]
  },
  {
   "cell_type": "code",
   "execution_count": null,
   "id": "351671f4",
   "metadata": {},
   "outputs": [],
   "source": []
  }
 ],
 "metadata": {
  "kernelspec": {
   "display_name": "Python 3 (ipykernel)",
   "language": "python",
   "name": "python3"
  },
  "language_info": {
   "codemirror_mode": {
    "name": "ipython",
    "version": 3
   },
   "file_extension": ".py",
   "mimetype": "text/x-python",
   "name": "python",
   "nbconvert_exporter": "python",
   "pygments_lexer": "ipython3",
   "version": "3.9.12"
  }
 },
 "nbformat": 4,
 "nbformat_minor": 5
}
